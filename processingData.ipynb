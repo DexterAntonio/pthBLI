{
 "cells": [
  {
   "cell_type": "markdown",
   "metadata": {},
   "source": [
    "PTH and PTH_FC data analysis "
   ]
  },
  {
   "cell_type": "markdown",
   "metadata": {},
   "source": [
    "Part one: importing the data"
   ]
  },
  {
   "cell_type": "code",
   "execution_count": 1,
   "metadata": {},
   "outputs": [],
   "source": [
    "import pandas as pd\n",
    "import csv\n",
    "import string\n",
    "import numpy as np\n",
    "import matplotlib.pyplot as plt #for plotting"
   ]
  },
  {
   "cell_type": "code",
   "execution_count": 2,
   "metadata": {},
   "outputs": [],
   "source": [
    "class Run:\n",
    "    def __init__(self,name=\"\",protein=\"\",concentration=0,model=\"oneToone\",t=[],r=[]):\n",
    "        self.name = name \n",
    "        self.protein = protein \n",
    "        self.concentrration = concentration\n",
    "        self.model = model \n",
    "        self.t = t \n",
    "        self.r = r \n",
    "    "
   ]
  },
  {
   "cell_type": "code",
   "execution_count": 3,
   "metadata": {},
   "outputs": [
    {
     "data": {
      "text/plain": [
       "[<matplotlib.lines.Line2D at 0x1d60e2aaa20>,\n",
       " <matplotlib.lines.Line2D at 0x1d60e2aac88>]"
      ]
     },
     "execution_count": 3,
     "metadata": {},
     "output_type": "execute_result"
    },
    {
     "data": {
      "image/png": "[encoded data removed]",
      "text/plain": [
       "<Figure size 432x288 with 1 Axes>"
      ]
     },
     "metadata": {},
     "output_type": "display_data"
    }
   ],
   "source": [
    "fileList = ['C:/Users/dexte/Desktop/pdata/A1.xls', 'C:/Users/dexte/Desktop/pdata/A2.xls', 'C:/Users/dexte/Desktop/pdata/A3.xls', 'C:/Users/dexte/Desktop/pdata/A4.xls', 'C:/Users/dexte/Desktop/pdata/B1.xls', 'C:/Users/dexte/Desktop/pdata/B2.xls', 'C:/Users/dexte/Desktop/pdata/B3.xls', 'C:/Users/dexte/Desktop/pdata/B4.xls', 'C:/Users/dexte/Desktop/pdata/C1.xls', 'C:/Users/dexte/Desktop/pdata/C2.xls', 'C:/Users/dexte/Desktop/pdata/C3.xls', 'C:/Users/dexte/Desktop/pdata/C4.xls', 'C:/Users/dexte/Desktop/pdata/D1.xls', 'C:/Users/dexte/Desktop/pdata/D2.xls', 'C:/Users/dexte/Desktop/pdata/D3.xls', 'C:/Users/dexte/Desktop/pdata/D4.xls', 'C:/Users/dexte/Desktop/pdata/E1.xls', 'C:/Users/dexte/Desktop/pdata/E2.xls', 'C:/Users/dexte/Desktop/pdata/E3.xls', 'C:/Users/dexte/Desktop/pdata/E4.xls', 'C:/Users/dexte/Desktop/pdata/F1.xls', 'C:/Users/dexte/Desktop/pdata/F2.xls', 'C:/Users/dexte/Desktop/pdata/F3.xls', 'C:/Users/dexte/Desktop/pdata/F4.xls', 'C:/Users/dexte/Desktop/pdata/F4.xls', 'C:/Users/dexte/Desktop/pdata/G1.xls', 'C:/Users/dexte/Desktop/pdata/G3.xls', 'C:/Users/dexte/Desktop/pdata/H1.xls', 'C:/Users/dexte/Desktop/pdata/H3.xls']\n",
    "#make a file list \n",
    "isFc = [0, 0, 1, 1, 0, 0, 1, 1, 0, 0, 1,0, 0, 0, 1, 1, 0, 0, 1, 1, 0, 0, 1, 1,0, 0, 1,0,1]\n",
    "\n",
    "t_array = []\n",
    "r_array = []\n",
    "run_array = []\n",
    "conc_array = []\n",
    "run_num = 0\n",
    "for file in fileList:\n",
    "    with open(file,'r') as csvFile:\n",
    "        rowNum = 1 \n",
    "        fReader = csv.reader(csvFile)\n",
    "        conc = 0 \n",
    "        t = []\n",
    "        r = []\n",
    "        for row in fReader:\n",
    "            if(rowNum==2):\n",
    "                conc = row[0].split(\"\\t\")[1]\n",
    "            if(rowNum >= 6): \n",
    "                t.append(float(row[0].split(\"\\t\")[0]))\n",
    "                r.append(float(row[0].split(\"\\t\")[1]))\n",
    "\n",
    "\n",
    "            rowNum = rowNum + 1 \n",
    "    t_array.append(t)\n",
    "    r_array.append(r)\n",
    "    conc_array.append(conc)\n",
    "    \n",
    "    if(isFc[run_num]):\n",
    "        protein_name = \"PTH-Fc\"\n",
    "    else:\n",
    "        protein_name = \"PTH\"\n",
    "    \n",
    "    tmpRun = Run(str(run_num),protein_name,conc,\"oneToone\",t,r)\n",
    "    run_array.append(tmpRun)\n",
    "    \n",
    "    run_num = run_num + 1 \n",
    "\n",
    "plt.plot(tmpRun.t,tmpRun.r,t_array[3],r_array[4],'-')"
   ]
  },
  {
   "cell_type": "code",
   "execution_count": null,
   "metadata": {},
   "outputs": [],
   "source": [
    "for run in run_array:\n",
    "    if(run.protein == \"PTH-Fc\" and np.max(run.r)>0.1):\n",
    "        plt.figure(1)\n",
    "        conc = run.concentrration\n",
    "        plt.plot(run.t,run.r,'-',label=str(conc) + \"M\")\n",
    "        print()\n",
    "plt.figure(1)\n",
    "plt.legend()"
   ]
  },
  {
   "cell_type": "code",
   "execution_count": null,
   "metadata": {},
   "outputs": [],
   "source": []
  },
  {
   "cell_type": "code",
   "execution_count": null,
   "metadata": {},
   "outputs": [],
   "source": [
    "#making Fc and PTH only run arrays\n",
    "PTHFc_runs = []\n",
    "PTH_runs = []\n",
    "numPTHruns = len(isFc)-sum(isFc)\n",
    "numPTHFcruns = sum(isFc)\n",
    "PTHFc_data = np.ndarray(shape=(numPTHFcruns+1,len(run_array[0].r))) #should be fixed so run_array isn't 0\n",
    "PTH_data = np.ndarray(shape=(numPTHruns+1,len(run_array[0].r)))\n",
    "i = 1 \n",
    "j = 1 \n",
    "for runs in run_array:\n",
    "    if(runs.protein==\"PTH-Fc\"):\n",
    "        PTHFc_runs.append(runs)\n",
    "        PTHFc_data[i,:] = runs.r\n",
    "        if(i==1):\n",
    "            PTHFc_data[i-1,:] = runs.t\n",
    "        i = i + 1 \n",
    "    else:\n",
    "        PTH_runs.append(runs)\n",
    "        PTH_data[j,:] = runs.r\n",
    "        if(j==1):\n",
    "            PTHFc_data[j-1,:] = runs.t\n",
    "        j = j + 1 \n",
    "plt.plot(PTH_data[0,:],PTH_data[1,:])"
   ]
  },
  {
   "cell_type": "code",
   "execution_count": null,
   "metadata": {},
   "outputs": [],
   "source": [
    "plt.figure(1)\n",
    "plt.plot(t_array[13],r_array[15],'-')\n",
    "#print(t_array[0])\n",
    "plt.show()"
   ]
  },
  {
   "cell_type": "code",
   "execution_count": null,
   "metadata": {},
   "outputs": [],
   "source": []
  }
 ],
 "metadata": {
  "kernelspec": {
   "display_name": "Python 3",
   "language": "python",
   "name": "python3"
  },
  "language_info": {
   "codemirror_mode": {
    "name": "ipython",
    "version": 3
   },
   "file_extension": ".py",
   "mimetype": "text/x-python",
   "name": "python",
   "nbconvert_exporter": "python",
   "pygments_lexer": "ipython3",
   "version": "3.6.5"
  }
 },
 "nbformat": 4,
 "nbformat_minor": 2
}
